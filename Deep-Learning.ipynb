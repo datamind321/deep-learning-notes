{
 "cells": [
  {
   "cell_type": "markdown",
   "id": "a7c2bc68-43e2-421a-a68e-71f842344199",
   "metadata": {},
   "source": [
    "![](https://media.geeksforgeeks.org/wp-content/uploads/20240524152118/Introduction-to-Deep-learning-copy.webp)\n",
    "<h1 style=color:red>What is Deep Learning ?</h1>"
   ]
  },
  {
   "cell_type": "markdown",
   "id": "e433d9a8-8a23-4229-950d-cbefd02c56a1",
   "metadata": {},
   "source": [
    "<h1 style=color:yellow>Deep learning is a subfield of Artificial Intelligence and Machine Learning that is inspired by the structure of human brain.</h1>\n",
    "\n",
    "![](https://www.neurond.com/static/0ab287d4d018579e2332ad792d11f5a8/e7746/ai-deep-learning.png)"
   ]
  },
  {
   "cell_type": "markdown",
   "id": "a99dce03-4f75-4e3f-b3a9-a9aa18a7b024",
   "metadata": {},
   "source": [
    "<h1 >Deep Learning algorithms attempts to draw similar conclussion as human would by continually analyzing data with a given logical structure called Neural Network.</h1>\n",
    "\n",
    "<img src=https://miro.medium.com/v2/resize:fit:980/1*VlaMEq_L5lGT_te6AO8jCg.png height=700 width=900></img>"
   ]
  },
  {
   "cell_type": "markdown",
   "id": "0f47290f-8bc5-4c49-a3da-870c05acb69e",
   "metadata": {},
   "source": [
    "<h2 style=color:#00ff00>Deep Learning is a part of a broader family of machine learning methods based on <u>artificial neural network</u> with <u>representative learning.</u></h2>\n",
    "\n",
    "<h3 style=color:red>In deep learning, feature learning or representation learning is a set of techniques that allows a system to automatically discover the representations needed for feature detection or classification from raw data.</h3>\n",
    "\n",
    "<h2 style=color:#ffff00>Deep Learning algorithms uses multiple layer to progressively extract higher-level features from raw input.</h2>\n",
    "\n",
    "<h2 style=color:#00ffff>For Example, In Image Processing, lower layers may identify edges, while higher layers may identify the concepts of relevant to a human such as digits or letters faces.</h2>\n",
    "\n",
    "![](https://contenthub-static.grammarly.com/blog/wp-content/uploads/2024/09/157421-grammarly-6162-blogvisuals-cnns-Image2-Op1-B_V1_new.png)\n"
   ]
  },
  {
   "cell_type": "markdown",
   "id": "93a29de3-c1c4-4737-8097-6362d6f5c44a",
   "metadata": {},
   "source": [
    "\n",
    "![](https://pythongeeks.org/wp-content/uploads/2022/03/deep-learning-vs-machine-learning-1200x675.webp)\n",
    "\n",
    "### Let’s understand the comparison of deep learning vs machine learning through their features –\n",
    "\n",
    "### 1. Data dependencies \n",
    "\n",
    "**Performance** is the main key difference between both algorithms.\n",
    "\n",
    "Although when the **data is small, deep learning algorithms don't perform well.** \n",
    "\n",
    "This is only reason **deep learning need a large amount of data to understand it perfectly.**\n",
    "\n",
    "![](https://www.researchgate.net/publication/344774931/figure/fig3/AS:948756895784965@1603212679377/Comparison-between-deep-learning-and-machine-learning.ppm)\n"
   ]
  },
  {
   "cell_type": "markdown",
   "id": "8411488f-d50c-4ad9-874e-11e0494181be",
   "metadata": {},
   "source": [
    "### 2. Hardware Dependencies \n",
    "\n",
    "Generally **Deep Learning depends on high-end machines**. While **traditional machine learning depends on low-ends machines.**\n",
    "Thus, **deep learning requirements include GPUs**. That is integral part of it's working. Also, **they do large amount of matrix multiplication operations**.\n",
    "\n",
    "### 3. Feature Engineering \n",
    "\n",
    "**In traditional machine learning approaches to feature extraction manually you do it yourself while deep learning extract features automatically from raw data.**\n",
    "\n",
    "## 4. Problem Solving approach \n",
    "\n",
    "**Generally, In traditional machine learning we use statistical approaches to solve a given problem whereas deep learning follows a logical structure called neural network to solve given problem.**\n",
    "\n",
    "### 5. Model Training \n",
    "\n",
    "**In traditional machine learning algorithms to take less time to train a model whereas deep learning take more times to train model.**\n",
    "\n",
    "### 6. Execution Time \n",
    "**Execution time is deep learning algorithms is faster comparison than traditional ml algorithms.**\n",
    "\n",
    "### 7. Interpretability \n",
    "\n",
    "**Mostly Deep learning algorithms are less interpretable models because we have no idea of co-factors behind this output while traditional ml agorithms are much interpretable comparison than deep learning algorithms.**\n",
    "\n",
    "## Factors Behind Deep Learning Success \n",
    "\n",
    "## 1. Data Availabity and Quality\n",
    "  - Big Data : **The explosion of digital data from sources like social media, sensors, and smartphones has provided vast amounts of information for training AI models.**\n",
    "  - Open Dataset : **Publicly available datasets (e.g., ImageNet, COCO) have facilitated research and development in deep learning.**\n",
    "  "
   ]
  },
  {
   "cell_type": "markdown",
   "id": "4b25471b-b39e-430f-b52e-34eb237f9981",
   "metadata": {},
   "source": [
    "## 2. Advancement Computaion Power\n",
    "  - GPUs and TPUs : **The use of powerful graphics processing units (GPUs) and tensor processing units (TPUs) has significantly accelerated the training of deep learning models.**\n",
    "  - Cloud Computing : **Cloud platforms provide scalable resources, enabling researchers and businesses to access powerful computing without significant upfront investment.**"
   ]
  },
  {
   "cell_type": "markdown",
   "id": "0b2d5330-00b3-4324-a04d-49edf2d72d1e",
   "metadata": {},
   "source": [
    "## 3. Advancement in Algorithms\n",
    "  - Neural Networks : **Innovations in neural network architectures (e.g., convolutional neural networks for image processing, recurrent neural networks for sequential data) have enhanced model performance.**\n",
    "  - Transfer Learning : **Techniques that allow models to leverage knowledge from pre-trained networks have made it easier to apply deep learning to new tasks with less data.**"
   ]
  },
  {
   "cell_type": "markdown",
   "id": "3df3473f-22f7-4d75-a847-73eaa197049f",
   "metadata": {},
   "source": [
    "## 4. Improved Software Frameworks\n",
    "  - Libraries and Frameworks : **The development of user-friendly frameworks like TensorFlow, PyTorch, and Keras has made it easier for developers to build and experiment with complex models.**\n",
    "  - Community Supports : **An active community contributes to the rapid evolution of tools and techniques, fostering collaboration and sharing of knowledge.** \n",
    " "
   ]
  },
  {
   "cell_type": "markdown",
   "id": "edd8d9b8-dee3-44f7-b6f6-d7cd83a03691",
   "metadata": {},
   "source": [
    "## 5. Interdisciplinary Research\n",
    "  - Integration of fields : **AI research has benefited from insights in fields like neuroscience, cognitive science, and statistics, leading to more robust models and methodologies.**\n",
    "  - Cross-Industry Applications : **AI's applicability across various sectors (healthcare, finance, transportation) has spurred investment and research.**\n",
    " "
   ]
  },
  {
   "cell_type": "markdown",
   "id": "a962678c-4d15-4a0e-8e4d-b58ed9d72f3d",
   "metadata": {},
   "source": [
    "## Types Of Neural Network \n",
    "- Perceptron\n",
    "- feed forward neural network\n",
    "- Multilayer Perceptron (ANN) - Tabular Data\n",
    "- Convolution Neural Network (CNN) - Image Data\n",
    "- Recurrent Neural Network (RNN) - Text Data\n",
    "- Generative Adversarial Network (GAN) - Generate Data \n",
    "- LSTM - Long Short Term Memory  \n",
    "- Sequence to Sequence Model (Encoder-Decoder Model) \n",
    "- Modular Neural Networks\n",
    "- Auto Encoders - Compress Data without loosing quality"
   ]
  },
  {
   "cell_type": "markdown",
   "id": "fe7026af-e37c-4924-8f16-5994bb0472d6",
   "metadata": {},
   "source": [
    "## History of Deep Learning \n",
    "\n",
    "![](https://miro.medium.com/v2/resize:fit:828/format:webp/0*FhUQ-XTsw6V-mrJy.png)"
   ]
  },
  {
   "cell_type": "markdown",
   "id": "523762a8-27b2-4609-a865-2c0d47e9b5a7",
   "metadata": {},
   "source": [
    "## Origins of Neural Networks \n",
    "**The evolution of deep learning started in 1940’s 2 guys called Warren McCulloch and Walter Pitts proposed the concept of artificial neurons. They developed a mathematical model which based on the working of basic biological neuron. That artificial neuron is called Mcp-neuron.That laid the foundation for Deep Learning.**\n",
    "\n",
    "![](https://media.licdn.com/dms/image/D4D12AQFT7XCnWm9itw/article-cover_image-shrink_600_2000/0/1695055213365?e=2147483647&v=beta&t=XFs4ywigrIeyaaUVwln5fIlkZrAsIUhydavcuQr7q9U)"
   ]
  },
  {
   "cell_type": "markdown",
   "id": "5185a4c9-830e-49f9-8a23-19413b8ffad7",
   "metadata": {},
   "source": [
    "## What is Perceptron ??\n",
    "\n",
    "**In 1957 a guy called Frank Rosenblatt introduced the perceptron, an algorithm based on artificial neurons. The perceptron was capable of learning from experience and adjusting its weights to make accurate predictions.**\n",
    "\n",
    "![](https://i0.wp.com/siliconlotus.net/wp-content/uploads/2023/11/Perceptrons-1024x724-1.jpeg?resize=800%2C600&ssl=1)"
   ]
  },
  {
   "cell_type": "markdown",
   "id": "998fb1e9-474a-4ae6-9ffa-b85c123d8d27",
   "metadata": {},
   "source": [
    "<h2 style=color:#00ff00>Problems with Perceptron</h2>\n",
    "\n",
    "<h3 style=color:#ff0000>However, perceptrons were limited to solving linearly separable problems, and their limitations led to a decline in interest in neural networks.</h3>\n",
    "\n",
    "<h3 style=color:#40e0d0>Great so far! Isn’t it? But the first AI winter struck after Rosenblatt’s perceptron model. AI winters are periods when little to no progress is witnessed in the field, a lack of investments for research studies, etc. Deep learning completely died in the late 1960s because researchers were not convinced about binary neurons.</h3>"
   ]
  },
  {
   "cell_type": "markdown",
   "id": "192d7bde-47e2-4ea7-88e6-39c5e733ae3e",
   "metadata": {},
   "source": [
    "## What is Backpropagation ??\n",
    "\n",
    "**After the Failure of Perceptron a lot of reasearch happened and finally in 1986 a guy called Geoffrey Hinton, along with David Rumelhart and Ronald Williams, made a breakthrough by introducing the backpropagation algorithm. Backpropagation enabled training of multi-layer neural networks by efficiently computing the gradients of the network’s weights. This advancement rekindled interest in neural networks and paved the way for the development of deep learning.**\n",
    "\n",
    "![](https://images.datacamp.com/image/upload/v1703680173/image_8ee636b259.gif)"
   ]
  },
  {
   "cell_type": "markdown",
   "id": "517a6331-4a80-4ceb-90df-664cb5722352",
   "metadata": {},
   "source": [
    "## Convolution Neural networks (CNNs)\n",
    "\n",
    "**In the late 1990s, primarily due to the groundbreaking work of Yann LeCun. LeCun developed the LeNet-5 architecture, which utilized convolutional layers, pooling layers, and fully connected layers to achieve remarkable performance in handwritten digit recognition tasks.**\n",
    "\n",
    "**CNNs revolutionized computer vision by enabling automated feature extraction from images, leading to breakthroughs in image classification, object detection, and more.**\n",
    "\n",
    "**In 1999, Nvidia developed the world’s first GPU. Researchers started implementing deep learning models on GPUs from the beginning of 2006. In early 2010, deep learning was used in speech recognition, and in 2013 the computer vision community began using neural nets.**\n",
    "\n",
    "**Like this Deep Learning gradually increases his demand and now still it is upgrading with help of latest algorithms.**"
   ]
  },
  {
   "cell_type": "markdown",
   "id": "753b36df-c8cf-4220-9607-dea4b72c5387",
   "metadata": {},
   "source": [
    "# Application Deep Learning"
   ]
  },
  {
   "attachments": {},
   "cell_type": "markdown",
   "id": "4be8469d-c10f-4c09-96f8-ab335149b27b",
   "metadata": {},
   "source": [
    "## 1. Self Driving Cars\n",
    "## 2. Speech Recognition\n",
    "## 3. Machine Translation\n",
    "## 4. Robotics & Automations\n",
    "## 5. Chatbots and Virtual Agents (GoogleSiri, Alexa etc)\n",
    "## 6. Drugs Design & Analysis\n",
    "## 7. Research & Developments\n",
    "## 8. Video and Image Processing Analysis (Computer Vision)\n",
    "## 9. Statistical Analysis\n",
    "## 10. Stock Marketing \n",
    "## 11. Game Deveopments\n",
    "## 12. Fraud Detections\n",
    "## 13. Recommendation System \n",
    "## 14. Natural Language Processing \n",
    "## 15. Face Recognition\n",
    "## 16. Image Coloring \n",
    "![](https://www.simplilearn.com/ice9/free_resources_article_thumb/Colorization.PNG)\n",
    "\n",
    "## 17. Image Captioning\n",
    "\n",
    "![](https://www.simplilearn.com/ice9/free_resources_article_thumb/Captioning.PNG)\n",
    "\n",
    "## 18. Text Translation  \n",
    "![](https://media.geeksforgeeks.org/wp-content/uploads/20231226141038/Machine-Translation-Model.png)\n",
    "\n",
    "## 19. Adding audio to mute videos\n",
    "\n",
    "## 20. Pixel Restoration "
   ]
  }
 ],
 "metadata": {
  "kernelspec": {
   "display_name": "Python 3 (ipykernel)",
   "language": "python",
   "name": "python3"
  },
  "language_info": {
   "codemirror_mode": {
    "name": "ipython",
    "version": 3
   },
   "file_extension": ".py",
   "mimetype": "text/x-python",
   "name": "python",
   "nbconvert_exporter": "python",
   "pygments_lexer": "ipython3",
   "version": "3.12.4"
  }
 },
 "nbformat": 4,
 "nbformat_minor": 5
}
